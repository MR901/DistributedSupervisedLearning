{
 "cells": [
  {
   "cell_type": "code",
   "execution_count": 9,
   "metadata": {},
   "outputs": [
    {
     "data": {
      "text/html": [
       "<div>\n",
       "<style scoped>\n",
       "    .dataframe tbody tr th:only-of-type {\n",
       "        vertical-align: middle;\n",
       "    }\n",
       "\n",
       "    .dataframe tbody tr th {\n",
       "        vertical-align: top;\n",
       "    }\n",
       "\n",
       "    .dataframe thead th {\n",
       "        text-align: right;\n",
       "    }\n",
       "</style>\n",
       "<table border=\"1\" class=\"dataframe\">\n",
       "  <thead>\n",
       "    <tr style=\"text-align: right;\">\n",
       "      <th></th>\n",
       "      <th>CurrentTime</th>\n",
       "      <th>Task</th>\n",
       "      <th>PlotDayWisetraffic</th>\n",
       "      <th>DataImportFromBQ</th>\n",
       "      <th>DataImportToPython</th>\n",
       "      <th>DataPreProcessing</th>\n",
       "      <th>DataExploration</th>\n",
       "      <th>DimenTransfAndClustering</th>\n",
       "      <th>SerialDataClustering</th>\n",
       "      <th>TranfomAndMovingResults</th>\n",
       "      <th>AlgoClustersEvaluation</th>\n",
       "      <th>OutputTransfAndEnsemEval</th>\n",
       "      <th>WholeExecutionTime</th>\n",
       "    </tr>\n",
       "  </thead>\n",
       "  <tbody>\n",
       "    <tr>\n",
       "      <th>0</th>\n",
       "      <td>18_08_03_10hr_30min(IST)</td>\n",
       "      <td>TrainTest</td>\n",
       "      <td>0</td>\n",
       "      <td>148</td>\n",
       "      <td>0</td>\n",
       "      <td>47</td>\n",
       "      <td>0</td>\n",
       "      <td>160</td>\n",
       "      <td>0</td>\n",
       "      <td>9</td>\n",
       "      <td>0</td>\n",
       "      <td>6</td>\n",
       "      <td>370</td>\n",
       "    </tr>\n",
       "  </tbody>\n",
       "</table>\n",
       "</div>"
      ],
      "text/plain": [
       "                CurrentTime       Task  PlotDayWisetraffic  DataImportFromBQ  \\\n",
       "0  18_08_03_10hr_30min(IST)  TrainTest                   0               148   \n",
       "\n",
       "   DataImportToPython  DataPreProcessing  DataExploration  \\\n",
       "0                   0                 47                0   \n",
       "\n",
       "   DimenTransfAndClustering  SerialDataClustering  TranfomAndMovingResults  \\\n",
       "0                       160                     0                        9   \n",
       "\n",
       "   AlgoClustersEvaluation  OutputTransfAndEnsemEval  WholeExecutionTime  \n",
       "0                       0                         6                 370  "
      ]
     },
     "execution_count": 9,
     "metadata": {},
     "output_type": "execute_result"
    }
   ],
   "source": [
    "import pandas as pd\n",
    "pd.read_csv('ExecutionTimeTaken.csv')"
   ]
  },
  {
   "cell_type": "code",
   "execution_count": null,
   "metadata": {},
   "outputs": [],
   "source": []
  }
 ],
 "metadata": {
  "kernelspec": {
   "display_name": "Python 2",
   "language": "python",
   "name": "python2"
  },
  "language_info": {
   "codemirror_mode": {
    "name": "ipython",
    "version": 2
   },
   "file_extension": ".py",
   "mimetype": "text/x-python",
   "name": "python",
   "nbconvert_exporter": "python",
   "pygments_lexer": "ipython2",
   "version": "2.7.15"
  }
 },
 "nbformat": 4,
 "nbformat_minor": 2
}
