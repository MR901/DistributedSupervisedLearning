{
 "cells": [
  {
   "cell_type": "code",
   "execution_count": null,
   "metadata": {},
   "outputs": [],
   "source": [
    "txt = 'adda'\n",
    "txt is False"
   ]
  },
  {
   "cell_type": "code",
   "execution_count": null,
   "metadata": {},
   "outputs": [],
   "source": []
  },
  {
   "cell_type": "code",
   "execution_count": null,
   "metadata": {},
   "outputs": [],
   "source": [
    "## To Hide or Show Code Blocks\n",
    "from IPython.display import HTML\n",
    "hidecode=HTML('''<script>\n",
    "code_show=true; \n",
    "function code_toggle() {\n",
    " if (code_show){\n",
    " $('div.input').hide();\n",
    " } else {\n",
    " $('div.input').show();\n",
    " }\n",
    " code_show = !code_show\n",
    "} \n",
    "$( document ).ready(code_toggle);\n",
    "</script>\n",
    "<form action=\"javascript:code_toggle()\"><input type=\"submit\" value=\"Click here to toggle on/off the raw code.\"></form>''')\n",
    "\n",
    "hidecode"
   ]
  },
  {
   "cell_type": "markdown",
   "metadata": {},
   "source": [
    "<h1><img src=\"https://blockclub.co/wp-content/uploads/2017/07/blockclub_brandmark_circle_rgb.jpg\" alt=\"roundtoc\" style=\"float:left;width:50px;height:50px;\"><b style=\"height:200px;margin-left:10px;\">&emsp;<font color=darkred>Adaptive Action Taking (AAT) Reporting Notebook</font></b><a class=\"anchor\" id=\"Main\"></a></h1>  \n",
    "\n",
    "&emsp;&emsp;&emsp;&emsp;**[Go to TOC](#TOC)**\n",
    "\n",
    "***"
   ]
  },
  {
   "cell_type": "markdown",
   "metadata": {},
   "source": [
    "<h2><b style=\"margin-left:10px;\">&#9641;&emsp;Table of Content</b><a class=\"anchor\" id=\"TOC\"></a></h2>\n",
    "\n",
    "***  \n",
    "> **Reports**\n",
    "> 0. **[Loading Libraries](#Lib)**\n",
    "> 1. **[Report 1: Time Consumption Per Iteration](#Report1)**\n",
    "> 2. **[Report 2: IDBA Last Execution Log](#Report2)**  \n",
    "\n",
    "***"
   ]
  },
  {
   "cell_type": "markdown",
   "metadata": {},
   "source": [
    "*** \n",
    "<h2><b style=\"height:50px;margin-left:10px;\">&#9635;&emsp;<font color=darkblue>Loading Libraries</font></b><a class=\"anchor\" id=\"Lib\"></a></h2>\n",
    "\n",
    "&emsp;&emsp;&emsp;&emsp;**[Go to TOC](#TOC)**"
   ]
  },
  {
   "cell_type": "code",
   "execution_count": null,
   "metadata": {},
   "outputs": [],
   "source": [
    "hidecode"
   ]
  },
  {
   "cell_type": "code",
   "execution_count": null,
   "metadata": {},
   "outputs": [],
   "source": [
    "# --------------------------------------------------- References -------------------------------------------------- #\n",
    "'''\n",
    "!pip install ipywidgets\n",
    "!jupyter nbextension enable --py widgetsnbextension\n",
    "https://blog.ouseful.info/2016/12/29/simple-view-controls-for-pandas-dataframes-using-ipython-widgets/\n",
    "http://ipywidgets.readthedocs.io/en/latest/examples/Widget%20List.html\n",
    "https://stackoverflow.com/questions/26873127/show-dataframe-as-table-in-ipython-notebook\n",
    "'''\n",
    "\n",
    "# ----------------------------------------------- Loading Libraries ----------------------------------------------- #\n",
    "%matplotlib inline\n",
    "\n",
    "import numpy as np\n",
    "import pandas as pd\n",
    "import scipy.stats as ss\n",
    "import matplotlib.pyplot as plt\n",
    "import glob, os, time, datetime\n",
    "from PIL import Image\n",
    "import ipywidgets as widgets\n",
    "from ipywidgets import Layout, interactive\n",
    "from IPython.display import display, HTML\n",
    "style = {'description_width': 'initial'}\n",
    "\n",
    "# pd.set_option('display.height', 10000)\n",
    "# pd.set_option('display.max_colwidth', 180)\n",
    "# pd.set_option('display.width', 1000)\n",
    "# pd.set_option('display.max_rows', 200)\n",
    "# pd.set_option('display.max_columns', 500)\n",
    "#pd.set_option('display.expand_frame_repr', False)\n",
    "\n",
    "# ----------------------------------------------------------------------------------------------------------------- #"
   ]
  },
  {
   "cell_type": "markdown",
   "metadata": {},
   "source": [
    "*** \n",
    "<h2><b style=\"height:50px;margin-left:10px;\">&#9673;&emsp;<font color=darkblue>1. Time Consumption Per Iteration</font></b><a class=\"anchor\" id=\"Report1\"></a></h2>\n",
    "\n",
    "&emsp;&emsp;&emsp;&emsp;**[Go to TOC](#TOC)**"
   ]
  },
  {
   "cell_type": "code",
   "execution_count": null,
   "metadata": {},
   "outputs": [],
   "source": [
    "hidecode"
   ]
  },
  {
   "cell_type": "code",
   "execution_count": null,
   "metadata": {},
   "outputs": [],
   "source": [
    "'''\n",
    "Description: \n",
    "    Used to interavtively View Multiple Groups based Reports .\n",
    "'''\n",
    "\n",
    "# -------------------------------------------------- InputLoaded -------------------------------------------------- #\n",
    "\n",
    "# ---------------------<<<  Importing All Group Related Reports File  >>>-------------------- #\n",
    "IterFilePath = 'logs/AAT_ExecutionTimeConsumption.csv'\n",
    "Xaxis = 'HrWise'\n",
    "## Options: 'DayWise', 'HrWise', 'TimestampWise'\n",
    "SaveFig = False\n",
    "FileNamelist = sorted(glob.glob(IterFilePath))\n",
    "# print(\"SID Iteration Data Present For the following SIDs.\\n\", [i.split('/')[0] for i in FileNamelist])\n",
    "\n",
    "\n",
    "# ---------------------------------------------- Widget Related Code ---------------------------------------------- #\n",
    "\n",
    "# ----------------------------------<<<  Adding Widgets  >>>--------------------------------- #\n",
    "FinalFilesToSelect_list = [\"No File Selected\"] + [FileNamelist[file] for file in range(len(FileNamelist))]\n",
    "File_Selector = widgets.Select(options = FinalFilesToSelect_list, disabled=False, description = 'Select a Report File: ', \n",
    "                               style=style, layout=Layout(width='60%', height='100px'))\n",
    "\n",
    "\n",
    "# ---------------------------------<<<  Functions Used  >>>---------------------------------- #\n",
    "def OpenAndShowImage(FileName):\n",
    "    if FileName == \"No File Selected\":\n",
    "        img = Image.new('RGB', (1000, 350))\n",
    "        return img\n",
    "    else:\n",
    "        df = pd.read_csv(FileName)\n",
    "        #print(df.columns)\n",
    "        #ExecTimestamp = [ float(str(df['DayNo'][i])+'.'+str(df['Iteration'][i])) for i in range(len(df)) ] \n",
    "        #ExecTimestamp = [time.strptime(ele, '%y_%m_%d_%Hhr_%Mmin(%Z)') for ele in df['ExecutionTime'] ] \n",
    "        ExecTimestamp = [ int(ele) for ele in df['ExecTimestamp'] ] \n",
    "        ExecTimeHrWise = [ round(float(ele - min(ExecTimestamp))/3600,2) for ele in ExecTimestamp ]\n",
    "        ExecTimeDayWise = [ round(float(ele - min(ExecTimestamp))/(3600*24),2) for ele in ExecTimestamp ]\n",
    "        if Xaxis == 'DayWise':\n",
    "            Xpts = ExecTimeDayWise\n",
    "            xmin = min(ExecTimeDayWise)\n",
    "        elif Xaxis == 'HrWise':\n",
    "            Xpts = ExecTimeHrWise\n",
    "            xmin = min(ExecTimeHrWise)\n",
    "        elif Xaxis == 'TimestampWise':\n",
    "            Xpts = ExecTimestamp\n",
    "            xmin = min(ExecTimestamp)\n",
    "        XaxisLabel = Xaxis.split('Wise')[0]\n",
    "\n",
    "        ImportFeedTime = [int(ele) if ele != '-' else 0 for ele in df['ImportFeedbackData']]\n",
    "        WholeExecutionTime = [int(ele) if ele != '-' else 0 for ele in df['WholeExecutionTime']] \n",
    "\n",
    "\n",
    "        fig = plt.figure(figsize = (16,4))#, edgecolor='k'\n",
    "\n",
    "        ## Execution Time plot\n",
    "        plt.subplot(1, 1, 1)\n",
    "        plt.plot(Xpts, ImportFeedTime, label='Importing Data From BQ', color ='r', alpha=0.9)\n",
    "        plt.plot(Xpts, WholeExecutionTime, label='Whole Execution', color ='k', alpha=0.9)\n",
    "        plt.title('Time Consumed in Code Execution', loc='left', fontsize=13)\n",
    "        #plt.xlabel(XaxisLabel)\n",
    "        plt.ylabel('Time Consumed (sec)')\n",
    "        plt.legend(loc='upper left', ncol= 1)\n",
    "        plt.grid(True)\n",
    "        plt.axvline(linewidth = 4, color=\"k\")\n",
    "        plt.axhline(linewidth = 2, color=\"k\")\n",
    "        plt.xlim(xmin,)\n",
    "        plt.ylim(0,)\n",
    "\n",
    "\n",
    "        # if SaveFig is True:\n",
    "        #     fig.savefig('MutliSIDAnalysis/TrafficAnalysisOnModuleImplementation__{}.png'.format(FileName.split('/')[0]), bbox_inches=\"tight\")\n",
    "\n",
    "        return plt.show()\n",
    "        #img = DisplayTable(FileName) \n",
    "\n",
    "def view1(SelectedFile = \"\", ):\n",
    "    print 'File that has been Selected: ', SelectedFile\n",
    "    display(OpenAndShowImage(SelectedFile))\n",
    "    \n",
    "    if (SelectedFile!=\"No File Selected\"):\n",
    "        #display(HTML(pd.DataFrame(columns = DF.columns).to_html()))\n",
    "        display(HTML(pd.read_csv(SelectedFile).tail(15).to_html()))\n",
    "\n",
    "\n",
    "# ------------------------<<<  Elements which Observe the States  >>>------------------------ #\n",
    "interactive(view1, SelectedFile = File_Selector)\n",
    "\n",
    "# ---------------------------------------<<<  xyz  >>>--------------------------------------- #\n",
    "# TimeUtilDF = pd.read_csv('logs/AAT_ExecutionTimeConsumption.csv')\n",
    "# display(HTML(TimeUtilDF.tail(15).to_html()))\n",
    "# ----------------------------------------------------------------------------------------------------------------- #"
   ]
  },
  {
   "cell_type": "markdown",
   "metadata": {},
   "source": [
    "*** \n",
    "<h2><b style=\"height:50px;margin-left:10px;\">&#9673;&emsp;<font color=darkblue>2. IDBA Last Execution Log</font></b><a class=\"anchor\" id=\"Report2\"></a></h2>\n",
    "\n",
    "&emsp;&emsp;&emsp;&emsp;**[Go to TOC](#TOC)**"
   ]
  },
  {
   "cell_type": "code",
   "execution_count": null,
   "metadata": {},
   "outputs": [],
   "source": [
    "hidecode"
   ]
  },
  {
   "cell_type": "code",
   "execution_count": null,
   "metadata": {},
   "outputs": [],
   "source": [
    "ExecOutputfile = open('logs/AAT_PythonExecuted.txt', 'r')\n",
    "# ExecOutput = ExecOutputfile.read()\n",
    "ExecOutput = ExecOutputfile.readlines()\n",
    "ExecOutputfile.close()\n",
    "# print(ExecOutput)\n",
    "txt =''\n",
    "for line in ExecOutput:\n",
    "    if 'BETWEEN' not in line.split(' '):\n",
    "        if 'production' not in line.split('-'):\n",
    "            txt += line\n",
    "print txt"
   ]
  },
  {
   "cell_type": "code",
   "execution_count": null,
   "metadata": {},
   "outputs": [],
   "source": []
  },
  {
   "cell_type": "code",
   "execution_count": null,
   "metadata": {},
   "outputs": [],
   "source": []
  }
 ],
 "metadata": {
  "kernelspec": {
   "display_name": "OfficeProjVirEnv",
   "language": "python",
   "name": "officeprojvirenv"
  },
  "language_info": {
   "codemirror_mode": {
    "name": "ipython",
    "version": 3
   },
   "file_extension": ".py",
   "mimetype": "text/x-python",
   "name": "python",
   "nbconvert_exporter": "python",
   "pygments_lexer": "ipython3",
   "version": "3.6.5"
  }
 },
 "nbformat": 4,
 "nbformat_minor": 2
}
